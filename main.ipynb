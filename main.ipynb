{
 "cells": [
  {
   "cell_type": "code",
   "execution_count": null,
   "id": "baf79ee2",
   "metadata": {},
   "outputs": [],
   "source": [
    "##CREATION D'UN MODELE PREDICTIVE DES RAISONS DE L'INFORMLITE DES ENTREPRISES"
   ]
  },
  {
   "cell_type": "code",
   "execution_count": null,
   "id": "02b9aed9",
   "metadata": {},
   "outputs": [],
   "source": [
    "#bunjouràtous#"
   ]
  },
  {
   "cell_type": "code",
   "execution_count": null,
   "id": "0af1d89c",
   "metadata": {},
   "outputs": [
    {
     "name": "stderr",
     "output_type": "stream",
     "text": [
      "2025-05-11 00:33:22.130 WARNING streamlit.runtime.scriptrunner_utils.script_run_context: Thread 'MainThread': missing ScriptRunContext! This warning can be ignored when running in bare mode.\n",
      "2025-05-11 00:33:39.046 \n",
      "  \u001b[33m\u001b[1mWarning:\u001b[0m to view this Streamlit app on a browser, run it with the following\n",
      "  command:\n",
      "\n",
      "    streamlit run c:\\Users\\User\\Documents\\Zoom\\Candidature 2025\\Formation Sorbonne Data Analytics\\Introduction to Python\\Projet python\\.venv\\Lib\\site-packages\\ipykernel_launcher.py [ARGUMENTS]\n",
      "2025-05-11 00:33:39.050 Thread 'MainThread': missing ScriptRunContext! This warning can be ignored when running in bare mode.\n"
     ]
    }
   ],
   "source": [
    "import streamlit as st\n",
    "import pandas as pd\n",
    "from sklearn import datasets\n",
    "from sklearn.ensemble import RandomForestClassifier \n",
    "\n",
    "st.write('''\n",
    "# Bienvenue Hello\n",
    "'''\n",
    "\n",
    ")\n",
    "\n",
    "print(\"Bonjour à tous\")\n",
    "print(\"Bonjour à tous\")\n",
    "print(\"Bonjour à tous\")\n",
    "print(\"Bonjour à tous\")\n",
    "print(\"Bonjour à tous\")\n",
    "print(\"Bonjour à tous\")\n",
    "print(\"Bonjour à tous\")\n",
    "print(\"Bonjour à tous\")\n",
    "print(\"Bonjour à tous\")\n",
    "print(\"Bonjour à tous\")\n",
    "print(\"Bonjour à tous\")\n",
    "print(\"dhfjdhfjdfhdfjksdkfkjdfhdhfkdhfkhdkjfhdkjfhkjdfhdkfjh\")\n",
    "print(Abdou)"
   ]
  }
 ],
 "metadata": {
  "kernelspec": {
   "display_name": ".venv",
   "language": "python",
   "name": "python3"
  },
  "language_info": {
   "codemirror_mode": {
    "name": "ipython",
    "version": 3
   },
   "file_extension": ".py",
   "mimetype": "text/x-python",
   "name": "python",
   "nbconvert_exporter": "python",
   "pygments_lexer": "ipython3",
   "version": "3.11.9"
  }
 },
 "nbformat": 4,
 "nbformat_minor": 5
}
