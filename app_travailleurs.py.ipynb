{
 "cells": [
  {
   "cell_type": "markdown",
   "id": "2205ab88",
   "metadata": {},
   "source": [
    "MODELE PREDICTIVE DE L'INDICE DE LA CAPACITÉ DE GESTION DES ENTREPRISES DANS LES PAYS EN DÉVELOPPEMENT"
   ]
  },
  {
   "cell_type": "markdown",
   "id": "4670b6ab",
   "metadata": {},
   "source": [
    "Installation des librairies"
   ]
  },
  {
   "cell_type": "code",
   "execution_count": 5,
   "id": "1edc373d",
   "metadata": {},
   "outputs": [],
   "source": [
    "## Importation des Bibliothéques requises\n",
    "import streamlit as st\n",
    "import pandas as pd\n",
    "import numpy as np\n",
    "import seaborn as sns\n",
    "import pickle \n",
    "import sklearn\n",
    "from sklearn.preprocessing import LabelEncoder\n",
    "from sklearn import datasets\n",
    "from sklearn.model_selection import train_test_split\n",
    "from sklearn.ensemble import RandomForestRegressor\n",
    "from sklearn.linear_model import LinearRegression"
   ]
  },
  {
   "cell_type": "markdown",
   "id": "1fdcd221",
   "metadata": {},
   "source": [
    "Importation des données d'enquête sur les entreprises informelles des pays en développement"
   ]
  },
  {
   "cell_type": "code",
   "execution_count": 6,
   "id": "498645de",
   "metadata": {},
   "outputs": [
    {
     "name": "stdout",
     "output_type": "stream",
     "text": [
      "<class 'pandas.core.frame.DataFrame'>\n",
      "RangeIndex: 14957 entries, 0 to 14956\n",
      "Data columns (total 11 columns):\n",
      " #   Column   Non-Null Count  Dtype  \n",
      "---  ------   --------------  -----  \n",
      " 0   country  14957 non-null  object \n",
      " 1   dem2     14957 non-null  int8   \n",
      " 2   dem6     14957 non-null  int16  \n",
      " 3   dem7     14957 non-null  int8   \n",
      " 4   wf1      14957 non-null  int16  \n",
      " 5   ge1      14957 non-null  int8   \n",
      " 6   op1      14957 non-null  int8   \n",
      " 7   op9      14957 non-null  int16  \n",
      " 8   mg1      14957 non-null  float64\n",
      " 9   tech2    14957 non-null  int8   \n",
      " 10  tech3    14957 non-null  int8   \n",
      "dtypes: float64(1), int16(3), int8(6), object(1)\n",
      "memory usage: 409.1+ KB\n"
     ]
    }
   ],
   "source": [
    "# Importation des données Chemin vers votre fichier .dta\n",
    "url = \"https://drive.usercontent.google.com/download?id=1qR3U2HQ6R_KMMp8J21b-B23RnXqQ2ELs&export=download\"\n",
    "df = pd.read_stata(url)\n",
    "# Description des données\n",
    "df.describe()\n",
    "df.info()\n",
    "# Encodage de la variable 'Pays'\n",
    "label_encoder=LabelEncoder()\n",
    "df['Country_Encoded'] = label_encoder.fit_transform(df['country'])"
   ]
  },
  {
   "cell_type": "markdown",
   "id": "45b9ca55",
   "metadata": {},
   "source": [
    "Entraînement du modèle"
   ]
  },
  {
   "cell_type": "code",
   "execution_count": 7,
   "id": "2a84a0ef",
   "metadata": {},
   "outputs": [],
   "source": [
    "def train_management_index_prediction_model():\n",
    "\n",
    "    X= df[['Country_Encoded','dem2','dem6','dem7','wf1','ge1','op1','op9','tech2','tech3']]\n",
    "    y = df['mg1'] \n",
    "    X_train, X_test, y_train, y_test = train_test_split(X, y, test_size=0.2, random_state=42)\n",
    "    model = LinearRegression()\n",
    "    model.fit(X_train, y_train)\n",
    "    return model"
   ]
  },
  {
   "cell_type": "markdown",
   "id": "5d143e62",
   "metadata": {},
   "source": [
    "Sauvegarde du modèle simulé"
   ]
  },
  {
   "cell_type": "code",
   "execution_count": 8,
   "id": "d327a0f0",
   "metadata": {},
   "outputs": [],
   "source": [
    "# Sauvegarder le modèle simulé\n",
    "model = train_management_index_prediction_model()\n",
    "pickle.dump(model, open('modèle de prédiction de la capacité de gestion des entreprises.pkl', 'wb'))\n",
    "# --- 2. Fonction de prédiction ---\n",
    "def predict_workers(Country_Encoded,dem2,dem6,dem7,wf1,ge1,op1,op9,tech2,tech3):\n",
    "    input_data = np.array([[Country_Encoded,dem2,dem6,dem7,wf1,ge1,op1,op9,tech2,tech3]])\n",
    "    prediction = model.predict(input_data)\n",
    "    return max(0, int(round(prediction[0]))) # S'assurer que la prédiction n'est pas négative"
   ]
  },
  {
   "cell_type": "markdown",
   "id": "4c523512",
   "metadata": {},
   "source": [
    "Interface Streamlit"
   ]
  },
  {
   "cell_type": "code",
   "execution_count": null,
   "id": "8b88d23e",
   "metadata": {},
   "outputs": [
    {
     "name": "stderr",
     "output_type": "stream",
     "text": [
      "2025-05-17 16:32:05.259 Thread 'MainThread': missing ScriptRunContext! This warning can be ignored when running in bare mode.\n",
      "2025-05-17 16:32:05.276 Thread 'MainThread': missing ScriptRunContext! This warning can be ignored when running in bare mode.\n",
      "2025-05-17 16:32:05.328 Thread 'MainThread': missing ScriptRunContext! This warning can be ignored when running in bare mode.\n",
      "2025-05-17 16:32:05.335 Thread 'MainThread': missing ScriptRunContext! This warning can be ignored when running in bare mode.\n",
      "2025-05-17 16:32:05.354 Thread 'MainThread': missing ScriptRunContext! This warning can be ignored when running in bare mode.\n",
      "2025-05-17 16:32:05.364 Thread 'MainThread': missing ScriptRunContext! This warning can be ignored when running in bare mode.\n",
      "2025-05-17 16:32:05.379 Thread 'MainThread': missing ScriptRunContext! This warning can be ignored when running in bare mode.\n",
      "2025-05-17 16:32:05.388 Thread 'MainThread': missing ScriptRunContext! This warning can be ignored when running in bare mode.\n",
      "2025-05-17 16:32:05.395 Thread 'MainThread': missing ScriptRunContext! This warning can be ignored when running in bare mode.\n",
      "2025-05-17 16:32:05.448 Thread 'MainThread': missing ScriptRunContext! This warning can be ignored when running in bare mode.\n",
      "2025-05-17 16:32:05.482 Thread 'MainThread': missing ScriptRunContext! This warning can be ignored when running in bare mode.\n",
      "2025-05-17 16:32:05.498 Thread 'MainThread': missing ScriptRunContext! This warning can be ignored when running in bare mode.\n",
      "2025-05-17 16:32:05.508 Thread 'MainThread': missing ScriptRunContext! This warning can be ignored when running in bare mode.\n",
      "2025-05-17 16:32:05.516 Thread 'MainThread': missing ScriptRunContext! This warning can be ignored when running in bare mode.\n",
      "2025-05-17 16:32:05.523 Thread 'MainThread': missing ScriptRunContext! This warning can be ignored when running in bare mode.\n",
      "2025-05-17 16:32:05.532 Thread 'MainThread': missing ScriptRunContext! This warning can be ignored when running in bare mode.\n",
      "2025-05-17 16:32:05.544 Thread 'MainThread': missing ScriptRunContext! This warning can be ignored when running in bare mode.\n",
      "2025-05-17 16:32:05.553 Thread 'MainThread': missing ScriptRunContext! This warning can be ignored when running in bare mode.\n",
      "2025-05-17 16:32:05.580 Thread 'MainThread': missing ScriptRunContext! This warning can be ignored when running in bare mode.\n",
      "2025-05-17 16:32:05.677 Thread 'MainThread': missing ScriptRunContext! This warning can be ignored when running in bare mode.\n",
      "2025-05-17 16:32:05.690 Thread 'MainThread': missing ScriptRunContext! This warning can be ignored when running in bare mode.\n",
      "2025-05-17 16:32:05.713 Thread 'MainThread': missing ScriptRunContext! This warning can be ignored when running in bare mode.\n",
      "2025-05-17 16:32:05.730 Thread 'MainThread': missing ScriptRunContext! This warning can be ignored when running in bare mode.\n",
      "2025-05-17 16:32:05.744 Thread 'MainThread': missing ScriptRunContext! This warning can be ignored when running in bare mode.\n",
      "2025-05-17 16:32:05.754 Thread 'MainThread': missing ScriptRunContext! This warning can be ignored when running in bare mode.\n",
      "2025-05-17 16:32:05.762 Thread 'MainThread': missing ScriptRunContext! This warning can be ignored when running in bare mode.\n",
      "2025-05-17 16:32:05.779 Thread 'MainThread': missing ScriptRunContext! This warning can be ignored when running in bare mode.\n",
      "2025-05-17 16:32:05.789 Thread 'MainThread': missing ScriptRunContext! This warning can be ignored when running in bare mode.\n",
      "2025-05-17 16:32:05.810 Thread 'MainThread': missing ScriptRunContext! This warning can be ignored when running in bare mode.\n",
      "2025-05-17 16:32:05.826 Thread 'MainThread': missing ScriptRunContext! This warning can be ignored when running in bare mode.\n",
      "2025-05-17 16:32:05.843 Thread 'MainThread': missing ScriptRunContext! This warning can be ignored when running in bare mode.\n",
      "2025-05-17 16:32:06.012 Thread 'MainThread': missing ScriptRunContext! This warning can be ignored when running in bare mode.\n",
      "2025-05-17 16:32:06.020 Thread 'MainThread': missing ScriptRunContext! This warning can be ignored when running in bare mode.\n",
      "2025-05-17 16:32:06.030 Thread 'MainThread': missing ScriptRunContext! This warning can be ignored when running in bare mode.\n",
      "2025-05-17 16:32:06.047 Thread 'MainThread': missing ScriptRunContext! This warning can be ignored when running in bare mode.\n",
      "2025-05-17 16:32:06.064 Thread 'MainThread': missing ScriptRunContext! This warning can be ignored when running in bare mode.\n",
      "2025-05-17 16:32:06.077 Thread 'MainThread': missing ScriptRunContext! This warning can be ignored when running in bare mode.\n",
      "2025-05-17 16:32:06.082 Thread 'MainThread': missing ScriptRunContext! This warning can be ignored when running in bare mode.\n",
      "2025-05-17 16:32:06.092 Thread 'MainThread': missing ScriptRunContext! This warning can be ignored when running in bare mode.\n",
      "2025-05-17 16:32:06.096 Thread 'MainThread': missing ScriptRunContext! This warning can be ignored when running in bare mode.\n",
      "2025-05-17 16:32:06.103 Thread 'MainThread': missing ScriptRunContext! This warning can be ignored when running in bare mode.\n",
      "2025-05-17 16:32:06.107 Thread 'MainThread': missing ScriptRunContext! This warning can be ignored when running in bare mode.\n",
      "2025-05-17 16:32:06.111 Thread 'MainThread': missing ScriptRunContext! This warning can be ignored when running in bare mode.\n",
      "2025-05-17 16:32:06.119 Thread 'MainThread': missing ScriptRunContext! This warning can be ignored when running in bare mode.\n",
      "2025-05-17 16:32:06.123 Thread 'MainThread': missing ScriptRunContext! This warning can be ignored when running in bare mode.\n",
      "2025-05-17 16:32:06.127 Thread 'MainThread': missing ScriptRunContext! This warning can be ignored when running in bare mode.\n",
      "2025-05-17 16:32:06.132 Thread 'MainThread': missing ScriptRunContext! This warning can be ignored when running in bare mode.\n"
     ]
    },
    {
     "name": "stderr",
     "output_type": "stream",
     "text": [
      "2025-05-17 16:32:06.139 Thread 'MainThread': missing ScriptRunContext! This warning can be ignored when running in bare mode.\n",
      "2025-05-17 16:32:06.374 Thread 'MainThread': missing ScriptRunContext! This warning can be ignored when running in bare mode.\n",
      "2025-05-17 16:32:06.396 Thread 'MainThread': missing ScriptRunContext! This warning can be ignored when running in bare mode.\n",
      "2025-05-17 16:32:06.425 Thread 'MainThread': missing ScriptRunContext! This warning can be ignored when running in bare mode.\n",
      "2025-05-17 16:32:06.431 Thread 'MainThread': missing ScriptRunContext! This warning can be ignored when running in bare mode.\n",
      "2025-05-17 16:32:06.464 Thread 'MainThread': missing ScriptRunContext! This warning can be ignored when running in bare mode.\n",
      "2025-05-17 16:32:06.475 Thread 'MainThread': missing ScriptRunContext! This warning can be ignored when running in bare mode.\n",
      "2025-05-17 16:32:06.479 Thread 'MainThread': missing ScriptRunContext! This warning can be ignored when running in bare mode.\n",
      "2025-05-17 16:32:06.489 Thread 'MainThread': missing ScriptRunContext! This warning can be ignored when running in bare mode.\n",
      "2025-05-17 16:32:06.745 Thread 'MainThread': missing ScriptRunContext! This warning can be ignored when running in bare mode.\n",
      "2025-05-17 16:32:06.760 Thread 'MainThread': missing ScriptRunContext! This warning can be ignored when running in bare mode.\n",
      "2025-05-17 16:32:06.766 Thread 'MainThread': missing ScriptRunContext! This warning can be ignored when running in bare mode.\n",
      "2025-05-17 16:32:06.776 Thread 'MainThread': missing ScriptRunContext! This warning can be ignored when running in bare mode.\n",
      "2025-05-17 16:32:06.794 Thread 'MainThread': missing ScriptRunContext! This warning can be ignored when running in bare mode.\n",
      "2025-05-17 16:32:06.825 Thread 'MainThread': missing ScriptRunContext! This warning can be ignored when running in bare mode.\n",
      "2025-05-17 16:32:07.311 Thread 'MainThread': missing ScriptRunContext! This warning can be ignored when running in bare mode.\n",
      "2025-05-17 16:32:07.358 Thread 'MainThread': missing ScriptRunContext! This warning can be ignored when running in bare mode.\n",
      "2025-05-17 16:32:07.376 Thread 'MainThread': missing ScriptRunContext! This warning can be ignored when running in bare mode.\n",
      "2025-05-17 16:32:07.405 Thread 'MainThread': missing ScriptRunContext! This warning can be ignored when running in bare mode.\n"
     ]
    },
    {
     "data": {
      "text/plain": [
       "DeltaGenerator()"
      ]
     },
     "execution_count": 21,
     "metadata": {},
     "output_type": "execute_result"
    }
   ],
   "source": [
    "# --- 3. Interface Streamlit ---\n",
    "st.title(\"Prédiction de l'indice de la capacité de gestion de l'entreprise\")\n",
    "\n",
    "st.subheader(\"Veuillez entrer les caractéristiques de l'entreprise :\")\n",
    "# Liste déroulante pour le pays\n",
    "pays_options = df['country'].unique()\n",
    "pays_choisi = st.selectbox(\"Pays d'appartenance de l'entreprise\", pays_options)\n",
    "country_encode = label_encoder.transform([pays_choisi])[0]\n",
    "# Input pour le niveau d'étude secondaire\n",
    "dem2 = st.slider(\"Niveau d'étude secondaire du propriétaire principal (0=Non, 100=Oui)\", 0, 100, 100, step=100)\n",
    "# Input pour l'âge de l'entreprise\n",
    "dem6 = st.number_input(\"Âge de l'entreprise\", min_value=0, step=1, value=5)\n",
    "# Input pour l'âge moyen des propriétaires\n",
    "dem7 = st.number_input(\"Âge du propriétaire ou âge moyen des propriétaires\", min_value=0, step=1, value=40)\n",
    "# Input pour le nombre moyen d'employés\n",
    "wf1 = st.number_input(\"Nombre moyen d'employés\", min_value=0, step=1, value=2)\n",
    "# Input pour le sexe féminin des propriétaires\n",
    "ge1 = st.slider(\"Le sexe du proprétaire ou des propriétaires principales est féminin (0=Non, 100=Oui)\", 0, 100, 0, step=100)\n",
    "# Input pour l'enregistrement de profit\n",
    "op1 = st.slider(\"Les entreprises enregistrant un profit le mois passé (0=Non, 100=Oui)\", 0, 100, 100, step=100)\n",
    "# Input pour le nombre moyen d'heures d'ouverture\n",
    "op9= st.number_input(\"Nombre moyen d'heures d'ouverture dans la semaine\", min_value=0, step=1, value=40)\n",
    "# Input pour l'utilisation du mobile money\n",
    "tech2= st.slider(\"Les entreprises utilisant le mobile money (0=Non, 100=Oui)\", 0, 100, 100, step=100)\n",
    "# Input pour l'utilisation d'un ordinateur/tablette\n",
    "tech3= st.slider(\"Les entreprises utilisant un ordinateur/tablette (0=Non, 100=Oui)\", 0, 100, 0, step=100)\n",
    "# Bouton de prédiction\n",
    "if st.button(\"Prédire l'Indice de Gestion\"):\n",
    "    input_data = pd.DataFrame({\n",
    "        'Pays_Encoded': [pays_encode],\n",
    "        'dem2': [secondaire],\n",
    "        'dem6': [age_entreprise],\n",
    "        'dem7': [age_proprietaire],\n",
    "        'wf1': [nb_employes],\n",
    "        'ge1': [sexe_feminin],\n",
    "        'op1': [profit],\n",
    "        'op9': [heures_ouverture],\n",
    "        'tech2': [mobile_money],\n",
    "        'tech3': [ordinateur]\n",
    "    })\n",
    "    prediction = model.predict(input_data)\n",
    "    st.subheader(f\"L'indice de capacité de gestion prédit est : {prediction[0]:.2f}\")\n",
    "\n",
    "st.caption(\"Ceci est un modèle de prédiction basé sur les données fournies.\")\n"
   ]
  }
 ],
 "metadata": {
  "kernelspec": {
   "display_name": ".venv",
   "language": "python",
   "name": "python3"
  },
  "language_info": {
   "codemirror_mode": {
    "name": "ipython",
    "version": 3
   },
   "file_extension": ".py",
   "mimetype": "text/x-python",
   "name": "python",
   "nbconvert_exporter": "python",
   "pygments_lexer": "ipython3",
   "version": "3.11.9"
  }
 },
 "nbformat": 4,
 "nbformat_minor": 5
}
